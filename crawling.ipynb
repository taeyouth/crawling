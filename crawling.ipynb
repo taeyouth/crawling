{
 "cells": [
  {
   "cell_type": "markdown",
   "id": "83cc4245",
   "metadata": {},
   "source": [
    "selenium 동작 확인"
   ]
  },
  {
   "cell_type": "code",
   "execution_count": 21,
   "id": "42db425f",
   "metadata": {},
   "outputs": [],
   "source": [
    "from selenium import webdriver as wd \n",
    "driver = wd.Chrome(executable_path=\"chromedriver.exe\") \n",
    "url = \"https://www.naver.com\" \n",
    "driver.get(url)"
   ]
  },
  {
   "cell_type": "markdown",
   "id": "0762db97",
   "metadata": {},
   "source": [
    "&nbsp;"
   ]
  },
  {
   "cell_type": "markdown",
   "id": "2e3142fc",
   "metadata": {},
   "source": [
    "## import library"
   ]
  },
  {
   "cell_type": "code",
   "execution_count": 9,
   "id": "48c24662",
   "metadata": {},
   "outputs": [],
   "source": [
    "from selenium import webdriver as wd \n",
    "from selenium.webdriver.common.by import By \n",
    "from selenium.webdriver.support.ui import WebDriverWait \n",
    "from selenium.webdriver.support import expected_conditions as EC \n",
    "import time \n",
    "import re \n",
    "import json \n",
    "import pandas as pd"
   ]
  },
  {
   "cell_type": "markdown",
   "id": "d776fbe4",
   "metadata": {},
   "source": [
    "&nbsp;"
   ]
  },
  {
   "cell_type": "markdown",
   "id": "57c2252f",
   "metadata": {},
   "source": [
    "## 로그인"
   ]
  },
  {
   "cell_type": "markdown",
   "id": "9641291d",
   "metadata": {},
   "source": [
    "&nbsp;"
   ]
  },
  {
   "cell_type": "markdown",
   "id": "2a8c3aad",
   "metadata": {},
   "source": [
    "### 로그인 파라미터 지정"
   ]
  },
  {
   "cell_type": "code",
   "execution_count": 88,
   "id": "0cf61929",
   "metadata": {},
   "outputs": [],
   "source": [
    "user_id= \"tae_youth\" \n",
    "user_passwd=\"xod970917\"\n",
    "login_option = \"instagram\"         # facebook이나 instargram 택 1\n",
    "driver_path=\"./chromedriver\"\n",
    "instagram_id_name=\"username\"\n",
    "instagram_pw_name=\"password\"\n",
    "instagram_login_btn=\".sqdOP.L3NKy.y3zKF \"\n",
    "facebook_login_page_css=\".sqdOP.L3NKy.y3zKF \"\n",
    "facebook_login_page_css2=\".sqdOP.yWX7d.y3zKF \"\n",
    "facebook_id_form_name=\"email\"\n",
    "facebook_pw_form_name=\"pass\"\n",
    "facebook_login_btn_name=\"login\""
   ]
  },
  {
   "cell_type": "markdown",
   "id": "e5642962",
   "metadata": {},
   "source": [
    "#### url 열기"
   ]
  },
  {
   "cell_type": "markdown",
   "id": "5bfe7093",
   "metadata": {},
   "source": [
    "&nbsp;"
   ]
  },
  {
   "cell_type": "markdown",
   "id": "24afff4c",
   "metadata": {},
   "source": [
    "### instagram 로그인"
   ]
  },
  {
   "cell_type": "code",
   "execution_count": 89,
   "id": "550dfc04",
   "metadata": {},
   "outputs": [
    {
     "name": "stdout",
     "output_type": "stream",
     "text": [
      "login start - option instagram\n"
     ]
    }
   ],
   "source": [
    "if login_option == \"instagram\":\n",
    "    try: \n",
    "        #url 열기\n",
    "        print(f\"login start - option {login_option}\") \n",
    "        driver = wd.Chrome(executable_path=\"chromedriver.exe\") \n",
    "        login_url = \"https://www.instagram.com/accounts/login/\" \n",
    "        driver.get(login_url) \n",
    "        time.sleep(10)\n",
    "        \n",
    "        #로그인/PW 버튼 찾아서 로그인\n",
    "        \n",
    "        instagram_id_form = driver.find_element_by_name(instagram_id_name)\n",
    "        instagram_id_form.send_keys(user_id)\n",
    "        time.sleep(5) \n",
    "        \n",
    "        instagram_pw_form = driver.find_element_by_name(instagram_pw_name) \n",
    "        instagram_pw_form.send_keys(user_passwd) \n",
    "        time.sleep(7) \n",
    "        \n",
    "        login_ok_button = driver.find_element_by_css_selector(instagram_login_btn) \n",
    "        login_ok_button.click() \n",
    "        is_login_success = True \n",
    "        \n",
    "        \n",
    "    except: \n",
    "        print(\"instagram login fail\") \n",
    "        is_login_success = False"
   ]
  },
  {
   "cell_type": "markdown",
   "id": "0bdbbd5e",
   "metadata": {},
   "source": [
    "여기까지 실행했으면 로그인 시 뜨는 '나중에 하기' 버튼을 직접 한번 눌러줘야 함"
   ]
  },
  {
   "cell_type": "markdown",
   "id": "6ca0cd0f",
   "metadata": {},
   "source": [
    "&nbsp;"
   ]
  },
  {
   "cell_type": "markdown",
   "id": "a5549ac4",
   "metadata": {},
   "source": [
    "### instagram 크롤링 코드"
   ]
  },
  {
   "cell_type": "markdown",
   "id": "ae67bc64",
   "metadata": {},
   "source": [
    "게시물이 있는 해시태그 url 입력"
   ]
  },
  {
   "cell_type": "code",
   "execution_count": 90,
   "id": "ea6fcbc2",
   "metadata": {},
   "outputs": [],
   "source": [
    "url = 'https://www.instagram.com/explore/tags/%EC%97%B0%EB%82%A8%EB%8F%99/' # 연남동 해시태그\n",
    "\n",
    "time.sleep(10) \n",
    "driver.get(url) \n",
    "time.sleep(10)"
   ]
  },
  {
   "cell_type": "code",
   "execution_count": 91,
   "id": "ee053bcb",
   "metadata": {},
   "outputs": [],
   "source": [
    "# 첫번째 게시물 클릭\n",
    "first_img_css=\"div.v1Nh3.kIKUG._bz0w\" \n",
    "driver.find_element_by_css_selector(first_img_css).click()"
   ]
  },
  {
   "cell_type": "markdown",
   "id": "0eb45862",
   "metadata": {},
   "source": [
    "데이터 저장 변수 선언"
   ]
  },
  {
   "cell_type": "code",
   "execution_count": 93,
   "id": "520bdc9b",
   "metadata": {},
   "outputs": [],
   "source": [
    "# data lists \n",
    "location_infos = [] \n",
    "location_hrefs = [] \n",
    "upload_ids = [] \n",
    "date_texts = [] \n",
    "date_times = [] \n",
    "date_titles = [] \n",
    "main_texts = [] \n",
    "instagram_tags = [] \n",
    "comments = [] \n",
    "check_arrow = True   # 다음 게시글이 있는지 체크하는 변수\n",
    "count_extract = 0  # 현재까지 추출된 게시물의 개수\n",
    "wish_num = 1000      # 추출하고자 하는 게시물의 개수 \n",
    "instagram_tags = [] \n",
    "instagram_tag_dates = []"
   ]
  },
  {
   "cell_type": "markdown",
   "id": "ed0bb5f1",
   "metadata": {},
   "source": [
    "**데이터 추출**"
   ]
  },
  {
   "cell_type": "code",
   "execution_count": 95,
   "id": "7afbbb8f",
   "metadata": {
    "scrolled": true
   },
   "outputs": [
    {
     "name": "stdout",
     "output_type": "stream",
     "text": [
      "the count extract is\n",
      "0\n",
      "the count extract is\n",
      "1\n",
      "the count extract is\n",
      "2\n",
      "the count extract is\n",
      "3\n",
      "the count extract is\n",
      "4\n",
      "the count extract is\n",
      "5\n",
      "the count extract is\n",
      "6\n",
      "the count extract is\n",
      "7\n",
      "the count extract is\n",
      "8\n",
      "the count extract is\n",
      "9\n",
      "the count extract is\n",
      "10\n",
      "the count extract is\n",
      "11\n",
      "the count extract is\n",
      "12\n",
      "the count extract is\n",
      "13\n",
      "the count extract is\n",
      "14\n",
      "the count extract is\n",
      "15\n",
      "the count extract is\n",
      "16\n",
      "the count extract is\n",
      "17\n",
      "the count extract is\n",
      "18\n",
      "the count extract is\n",
      "19\n",
      "the count extract is\n",
      "20\n",
      "the count extract is\n",
      "21\n",
      "the count extract is\n",
      "22\n",
      "the count extract is\n",
      "23\n",
      "the count extract is\n",
      "24\n",
      "the count extract is\n",
      "25\n",
      "the count extract is\n",
      "26\n",
      "the count extract is\n",
      "27\n",
      "the count extract is\n",
      "28\n",
      "the count extract is\n",
      "29\n",
      "the count extract is\n",
      "30\n",
      "the count extract is\n",
      "31\n",
      "the count extract is\n",
      "32\n",
      "the count extract is\n",
      "33\n",
      "the count extract is\n",
      "34\n",
      "the count extract is\n",
      "35\n",
      "the count extract is\n",
      "36\n",
      "the count extract is\n",
      "37\n",
      "the count extract is\n",
      "38\n",
      "the count extract is\n",
      "39\n",
      "the count extract is\n",
      "40\n",
      "the count extract is\n",
      "41\n",
      "the count extract is\n",
      "42\n"
     ]
    },
    {
     "ename": "KeyboardInterrupt",
     "evalue": "",
     "output_type": "error",
     "traceback": [
      "\u001b[1;31m---------------------------------------------------------------------------\u001b[0m",
      "\u001b[1;31mKeyboardInterrupt\u001b[0m                         Traceback (most recent call last)",
      "\u001b[1;32m<ipython-input-95-c63d6d5b0881>\u001b[0m in \u001b[0;36m<module>\u001b[1;34m\u001b[0m\n\u001b[0;32m     14\u001b[0m     \u001b[1;32mif\u001b[0m \u001b[0mcount_extract\u001b[0m \u001b[1;33m>\u001b[0m \u001b[0mwish_num\u001b[0m\u001b[1;33m:\u001b[0m\u001b[1;33m\u001b[0m\u001b[1;33m\u001b[0m\u001b[0m\n\u001b[0;32m     15\u001b[0m         \u001b[1;32mbreak\u001b[0m\u001b[1;33m\u001b[0m\u001b[1;33m\u001b[0m\u001b[0m\n\u001b[1;32m---> 16\u001b[1;33m     \u001b[0mtime\u001b[0m\u001b[1;33m.\u001b[0m\u001b[0msleep\u001b[0m\u001b[1;33m(\u001b[0m\u001b[1;36m5.0\u001b[0m\u001b[1;33m)\u001b[0m\u001b[1;33m\u001b[0m\u001b[1;33m\u001b[0m\u001b[0m\n\u001b[0m\u001b[0;32m     17\u001b[0m \u001b[1;33m\u001b[0m\u001b[0m\n\u001b[0;32m     18\u001b[0m     \u001b[1;32mif\u001b[0m \u001b[0mcheck_arrow\u001b[0m \u001b[1;33m==\u001b[0m \u001b[1;32mFalse\u001b[0m\u001b[1;33m:\u001b[0m\u001b[1;33m\u001b[0m\u001b[1;33m\u001b[0m\u001b[0m\n",
      "\u001b[1;31mKeyboardInterrupt\u001b[0m: "
     ]
    }
   ],
   "source": [
    "location_object_css=\"div.o-MQd.z8cbW > div.M30cS > div.JF9hh > a.O4GlU\" \n",
    "upload_id_object_css=\"div.e1e1d > span.Jv7Aj.MqpiF > a.sqdOP.yWX7d._8A5w5.ZIAjV \" \n",
    "date_object_css=\"div.k_Q0X.NnvRN > a.c-Yi7 > time._1o9PC.Nzb55\" \n",
    "main_text_object_css=\"div.C7I1f.X7jCj > div.C4VMK > span\" \n",
    "tag_css=\".C7I1f.X7jCj\" \n",
    "comment_more_btn=\"button.dCJp8.afkep\" \n",
    "comment_ids_objects_css=\"ul.Mr508 > div.ZyFrc > li.gElp9.rUo9f > div.P9YgZ > div.C7I1f > div.C4VMK > h3\" \n",
    "comment_texts_objects_css=\"ul.Mr508 > div.ZyFrc > li.gElp9.rUo9f > div.P9YgZ > div.C7I1f > div.C4VMK > span\" \n",
    "print_flag=False    # 실시간으로 출력할건지 여부\n",
    "next_arrow_btn_css1=\"._65Bje.coreSpriteRightPaginationArrow\" \n",
    "next_arrow_btn_css2=\"._65Bje.coreSpriteRightPaginationArrow\" \n",
    "\n",
    "while True: \n",
    "    if count_extract > wish_num: \n",
    "        break \n",
    "    time.sleep(5.0) \n",
    "    \n",
    "    if check_arrow == False: \n",
    "        break \n",
    "    # 위치정보     \n",
    "    try: \n",
    "        location_object = driver.find_element_by_css_selector(location_object_css)\n",
    "        location_info = location_object.text \n",
    "        location_href = location_object.get_attribute(\"href\") \n",
    "    except: \n",
    "        location_info = None \n",
    "        location_href = None \n",
    "        \n",
    "    # 올린사람 ID \n",
    "    try: \n",
    "        upload_id_object = driver.find_element_by_css_selector(upload_id_object_css) \n",
    "        upload_id = upload_id_object.text \n",
    "    except: \n",
    "        upload_id = None \n",
    "        \n",
    "    # 날짜 \n",
    "    try: \n",
    "        date_object = driver.find_element_by_css_selector(date_object_css) \n",
    "        date_text = date_object.text \n",
    "        date_time = date_object.get_attribute(\"datetime\") \n",
    "        date_title = date_object.get_attribute(\"title\") \n",
    "    except: \n",
    "        date_text = None \n",
    "        date_time = None \n",
    "        date_title = None \n",
    "        \n",
    "    # 본문 \n",
    "    try: \n",
    "        main_text_object = driver.find_element_by_css_selector(main_text_object_css) \n",
    "        main_text = main_text_object.text \n",
    "    except: \n",
    "        main_text = None \n",
    "        \n",
    "    ## 본문 속 태그 \n",
    "    try: \n",
    "        data = driver.find_element_by_css_selector(tag_css) # C7I1f X7jCj \n",
    "        tag_raw = data.text \n",
    "        tags = re.findall('#[A-Za-z0-9가-힣]+', tag_raw) \n",
    "        tag = ''.join(tags).replace(\"#\",\" \") # \"#\" 제거 \n",
    "        \n",
    "        tag_data = tag.split() \n",
    "        \n",
    "        for tag_one in tag_data: \n",
    "            instagram_tags.append(tag_one) \n",
    "    except: \n",
    "        continue \n",
    "        \n",
    "    \n",
    "        \n",
    "    # 댓글 \n",
    "    ## 더보기 버튼 클릭 \n",
    "    try: \n",
    "        while True: \n",
    "            try: \n",
    "                more_btn = driver.find_element_by_css_selector(comment_more_btn)\n",
    "                more_btn.click() \n",
    "            except: \n",
    "                break \n",
    "    except: \n",
    "        print(\"----------------------fail to click more btn----------------------------------\")\n",
    "        continue \n",
    "        \n",
    "    ## 댓글 데이터 \n",
    "    try: \n",
    "        comment_data = {} \n",
    "\n",
    "        comment_ids_objects = driver.find_elements_by_css_selector(comment_ids_objects_css)\n",
    "\n",
    "        comment_texts_objects = driver.find_elements_by_css_selector(comment_texts_objects_css) \n",
    "    \n",
    "        try: \n",
    "            for i in range(len(comment_ids_objects)): \n",
    "                comment_data[str((i+1))] = {\"comment_id\":comment_ids_objects[i].text, \"comment_text\":comment_texts_objects[i].text} \n",
    "        except: \n",
    "            print(\"fail\") \n",
    "        \n",
    "    except: \n",
    "        comment_id = None \n",
    "        comment_text = None \n",
    "        comment_data = {} \n",
    "    \n",
    "    try: \n",
    "        if comment_data != {}: \n",
    "            keys = list(comment_data.keys()) \n",
    "\n",
    "            for key in keys: \n",
    "                if comment_data[key]['comment_id'] == upload_id: \n",
    "                    tags = re.findall('#[A-Za-z0-9가-힣]+', comment_data[key]['comment_text']) \n",
    "                    tag = ''.join(tags).replace(\"#\",\" \") # \"#\" 제거 \n",
    "\n",
    "                    tag_data = tag.split() \n",
    "                    for tag_one in tag_data: \n",
    "                        instagram_tags.append(tag_one) \n",
    "\n",
    "    except: \n",
    "        continue \n",
    "    \n",
    "    \n",
    "    location_infos.append(location_info) \n",
    "    location_hrefs.append(location_href) \n",
    "\n",
    "    upload_ids.append(upload_id) \n",
    "\n",
    "    date_texts.append(date_text) \n",
    "    date_times.append(date_time) \n",
    "    date_titles.append(date_title) \n",
    "\n",
    "    main_texts.append(main_text) \n",
    "\n",
    "    comment_json = json.dumps(comment_data) \n",
    "\n",
    "    comments.append(comment_json) \n",
    "    \n",
    "    print('the count extract is')\n",
    "    print(count_extract)\n",
    "\n",
    "    if print_flag: \n",
    "        print(\"location_info : \", location_info) \n",
    "        print(\"location_href : \", location_href) \n",
    "        print(\"upload id : \", upload_id) \n",
    "        print(\"date : {} {} {}\".format(date_text, date_time, date_title)) \n",
    "        print(\"main : \", main_text)\n",
    "        print(\"comment : \", comment_data) \n",
    "        print(\"insta tags : \", instagram_tags) \n",
    "\n",
    "    try: \n",
    "        WebDriverWait(driver, 100).until(EC.presence_of_element_located((By.CSS_SELECTOR, next_arrow_btn_css1))) \n",
    "        driver.find_element_by_css_selector(next_arrow_btn_css2).click() \n",
    "    except: \n",
    "        check_arrow = False \n",
    "\n",
    "    count_extract += 1"
   ]
  },
  {
   "cell_type": "code",
   "execution_count": 86,
   "id": "73ff05f3",
   "metadata": {},
   "outputs": [],
   "source": [
    "save_file_name=\"instagram_extract\" \n",
    "save_file_name_tag=\"instagram_tag\"\n",
    "\n",
    "try: \n",
    "    insta_info_df = pd.DataFrame({\"location_info\":location_infos, \"location_href\":location_hrefs, \"upload_id\":upload_ids, \"date_text\":date_texts, \"date_time\":date_times, \"date_title\":date_titles, \"main_text\":main_texts, \"comment\":comments}) \n",
    "    insta_info_df.to_csv(\"{}.csv\".format(save_file_name), index=False) \n",
    "    \n",
    "except: print(\"fail to save data\") \n",
    "    \n",
    "try: \n",
    "    insta_tag_df = pd.DataFrame({\"tag\":instagram_tags}) \n",
    "    insta_tag_df.to_csv(\"{}.csv\".format(save_file_name_tag), index=False) \n",
    "except: \n",
    "    print(\"fail to save tag data\") \n",
    "    \n",
    "driver.close() \n",
    "driver.quit()"
   ]
  },
  {
   "cell_type": "code",
   "execution_count": null,
   "id": "dbbaa930",
   "metadata": {},
   "outputs": [],
   "source": []
  },
  {
   "cell_type": "code",
   "execution_count": null,
   "id": "56c36634",
   "metadata": {},
   "outputs": [],
   "source": []
  },
  {
   "cell_type": "code",
   "execution_count": null,
   "id": "fe38a0ad",
   "metadata": {},
   "outputs": [],
   "source": []
  },
  {
   "cell_type": "code",
   "execution_count": null,
   "id": "fad5b279",
   "metadata": {},
   "outputs": [],
   "source": []
  },
  {
   "cell_type": "code",
   "execution_count": null,
   "id": "fa3a42b9",
   "metadata": {},
   "outputs": [],
   "source": []
  },
  {
   "cell_type": "code",
   "execution_count": null,
   "id": "e0cb8965",
   "metadata": {},
   "outputs": [],
   "source": []
  },
  {
   "cell_type": "code",
   "execution_count": null,
   "id": "b3d0545f",
   "metadata": {},
   "outputs": [],
   "source": []
  },
  {
   "cell_type": "code",
   "execution_count": null,
   "id": "3927271a",
   "metadata": {},
   "outputs": [],
   "source": []
  },
  {
   "cell_type": "code",
   "execution_count": null,
   "id": "b65c2fbe",
   "metadata": {},
   "outputs": [],
   "source": []
  },
  {
   "cell_type": "code",
   "execution_count": null,
   "id": "032274fb",
   "metadata": {},
   "outputs": [],
   "source": []
  }
 ],
 "metadata": {
  "kernelspec": {
   "display_name": "Python 3",
   "language": "python",
   "name": "python3"
  },
  "language_info": {
   "codemirror_mode": {
    "name": "ipython",
    "version": 3
   },
   "file_extension": ".py",
   "mimetype": "text/x-python",
   "name": "python",
   "nbconvert_exporter": "python",
   "pygments_lexer": "ipython3",
   "version": "3.8.8"
  }
 },
 "nbformat": 4,
 "nbformat_minor": 5
}
