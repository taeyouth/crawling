{
 "cells": [
  {
   "cell_type": "markdown",
   "id": "323309af",
   "metadata": {},
   "source": [
    "selenium 동작 확인"
   ]
  },
  {
   "cell_type": "code",
   "execution_count": 3,
   "id": "c9ae0bdb",
   "metadata": {},
   "outputs": [],
   "source": [
    "from selenium import webdriver as wd \n",
    "driver = wd.Chrome(executable_path=\"chromedriver.exe\") \n",
    "url = \"https://www.naver.com\" \n",
    "driver.get(url)"
   ]
  },
  {
   "cell_type": "markdown",
   "id": "f06a8bda",
   "metadata": {},
   "source": [
    "## import library"
   ]
  },
  {
   "cell_type": "code",
   "execution_count": 27,
   "id": "710ddb41",
   "metadata": {},
   "outputs": [],
   "source": [
    "from selenium import webdriver as wd \n",
    "from selenium.webdriver.common.by import By \n",
    "from selenium.webdriver.support.ui import WebDriverWait \n",
    "from selenium.webdriver.support import expected_conditions as EC \n",
    "import time \n",
    "import re \n",
    "import json \n",
    "import pandas as pd\n",
    "import numpy as np\n",
    "from bs4 import BeautifulSoup"
   ]
  },
  {
   "cell_type": "markdown",
   "id": "9c5d44f2",
   "metadata": {},
   "source": [
    "&nbsp;"
   ]
  },
  {
   "cell_type": "markdown",
   "id": "73251246",
   "metadata": {},
   "source": [
    "### facebook 로그인"
   ]
  },
  {
   "cell_type": "markdown",
   "id": "2fda5cc8",
   "metadata": {},
   "source": [
    "로그인 파라미터"
   ]
  },
  {
   "cell_type": "code",
   "execution_count": 58,
   "id": "099eb4ee",
   "metadata": {},
   "outputs": [],
   "source": [
    "facebook_login_page_css=\".sqdOP.L3NKy.y3zKF \" \n",
    "facebook_login_page_css2=\".sqdOP.yWX7d.y3zKF \"\n",
    "facebook_login_btn_name=\"login\""
   ]
  },
  {
   "cell_type": "markdown",
   "id": "84ff45d0",
   "metadata": {},
   "source": [
    "url 열기"
   ]
  },
  {
   "cell_type": "code",
   "execution_count": 48,
   "id": "47f3a61c",
   "metadata": {},
   "outputs": [],
   "source": [
    "from selenium import webdriver as wd \n",
    "driver = wd.Chrome(executable_path=\"chromedriver.exe\") \n",
    "\n",
    "driver.implicitly_wait(3)\n",
    "\n",
    "driver.get('https://www.facebook.com/')"
   ]
  },
  {
   "cell_type": "markdown",
   "id": "3df5a38b",
   "metadata": {},
   "source": [
    "로그인"
   ]
  },
  {
   "cell_type": "code",
   "execution_count": 49,
   "id": "428a39b1",
   "metadata": {},
   "outputs": [],
   "source": [
    "html = driver.page_source\n",
    "soup = BeautifulSoup(html, 'html.parser')\n",
    "\n",
    "email = driver.find_element_by_xpath(\"//input[@name = 'email']\")\n",
    "password = driver.find_element_by_xpath(\"//input[@name = 'pass']\")\n",
    "facebook_login_btn = driver.find_element_by_name(facebook_login_btn_name)\n",
    "#btn = driver.find_element_by_xpath(\"//input[@value = '로그인']\")\n",
    "\n",
    "email.send_keys('01033949077')\n",
    "password.send_keys('xodudwhgdk970')\n",
    "#btn.click()\n",
    "facebook_login_btn.click()"
   ]
  },
  {
   "cell_type": "markdown",
   "id": "ce43fdbc",
   "metadata": {},
   "source": [
    "&nbsp;"
   ]
  },
  {
   "cell_type": "markdown",
   "id": "9f103d43",
   "metadata": {},
   "source": [
    "### keyword 검색"
   ]
  },
  {
   "cell_type": "code",
   "execution_count": 60,
   "id": "d079be2a",
   "metadata": {},
   "outputs": [],
   "source": [
    "search_box_name=\"global_typeahead\"\n",
    "search_box_button =\".tvfksri0.taijpn5t.j83agx80.ll8tlv6m\"\n",
    "\n",
    "searchbox = driver.find_element_by_name(search_box_name)\n",
    "\n",
    "searchbox.send_keys('고태영')\n",
    "searchbox_ok_button = driver.find_element_by_css_selector(search_box_button)\n",
    "searchbox_ok_button.click()\n",
    "\n",
    "time.sleep(3)"
   ]
  },
  {
   "cell_type": "code",
   "execution_count": null,
   "id": "3c6fd226",
   "metadata": {},
   "outputs": [],
   "source": []
  },
  {
   "cell_type": "code",
   "execution_count": null,
   "id": "bbb82dd2",
   "metadata": {},
   "outputs": [],
   "source": []
  },
  {
   "cell_type": "code",
   "execution_count": null,
   "id": "52b7c376",
   "metadata": {},
   "outputs": [],
   "source": []
  },
  {
   "cell_type": "code",
   "execution_count": null,
   "id": "d324473a",
   "metadata": {},
   "outputs": [],
   "source": []
  },
  {
   "cell_type": "code",
   "execution_count": null,
   "id": "98b56561",
   "metadata": {},
   "outputs": [],
   "source": []
  },
  {
   "cell_type": "code",
   "execution_count": null,
   "id": "da529c26",
   "metadata": {},
   "outputs": [],
   "source": []
  },
  {
   "cell_type": "code",
   "execution_count": null,
   "id": "610d2817",
   "metadata": {},
   "outputs": [],
   "source": []
  },
  {
   "cell_type": "code",
   "execution_count": null,
   "id": "b1dd3280",
   "metadata": {},
   "outputs": [],
   "source": []
  },
  {
   "cell_type": "code",
   "execution_count": null,
   "id": "22723068",
   "metadata": {},
   "outputs": [],
   "source": []
  },
  {
   "cell_type": "code",
   "execution_count": null,
   "id": "7e9081c9",
   "metadata": {},
   "outputs": [],
   "source": []
  },
  {
   "cell_type": "code",
   "execution_count": null,
   "id": "b2e760a7",
   "metadata": {},
   "outputs": [],
   "source": []
  },
  {
   "cell_type": "code",
   "execution_count": null,
   "id": "4b7cdda7",
   "metadata": {},
   "outputs": [],
   "source": []
  },
  {
   "cell_type": "code",
   "execution_count": null,
   "id": "72b1b1e6",
   "metadata": {},
   "outputs": [],
   "source": []
  },
  {
   "cell_type": "code",
   "execution_count": null,
   "id": "b680fb70",
   "metadata": {},
   "outputs": [],
   "source": []
  },
  {
   "cell_type": "code",
   "execution_count": null,
   "id": "66a1ff0b",
   "metadata": {},
   "outputs": [],
   "source": []
  },
  {
   "cell_type": "code",
   "execution_count": null,
   "id": "d547c1c1",
   "metadata": {},
   "outputs": [],
   "source": []
  },
  {
   "cell_type": "code",
   "execution_count": null,
   "id": "60540f18",
   "metadata": {},
   "outputs": [],
   "source": []
  },
  {
   "cell_type": "code",
   "execution_count": null,
   "id": "073b642b",
   "metadata": {},
   "outputs": [],
   "source": []
  },
  {
   "cell_type": "code",
   "execution_count": null,
   "id": "8c17ff8d",
   "metadata": {},
   "outputs": [],
   "source": []
  },
  {
   "cell_type": "code",
   "execution_count": null,
   "id": "d8befc4e",
   "metadata": {},
   "outputs": [],
   "source": []
  },
  {
   "cell_type": "code",
   "execution_count": null,
   "id": "a00ab9a6",
   "metadata": {},
   "outputs": [],
   "source": []
  },
  {
   "cell_type": "code",
   "execution_count": null,
   "id": "05d8d4ff",
   "metadata": {},
   "outputs": [],
   "source": []
  },
  {
   "cell_type": "code",
   "execution_count": null,
   "id": "eff58e7b",
   "metadata": {},
   "outputs": [],
   "source": []
  },
  {
   "cell_type": "code",
   "execution_count": null,
   "id": "1ec963d1",
   "metadata": {},
   "outputs": [],
   "source": []
  },
  {
   "cell_type": "code",
   "execution_count": null,
   "id": "9730a5df",
   "metadata": {},
   "outputs": [],
   "source": []
  },
  {
   "cell_type": "code",
   "execution_count": null,
   "id": "cee60f9e",
   "metadata": {},
   "outputs": [],
   "source": []
  },
  {
   "cell_type": "code",
   "execution_count": null,
   "id": "10d8707f",
   "metadata": {},
   "outputs": [],
   "source": []
  },
  {
   "cell_type": "code",
   "execution_count": null,
   "id": "720c94b6",
   "metadata": {},
   "outputs": [],
   "source": []
  },
  {
   "cell_type": "code",
   "execution_count": null,
   "id": "573791ae",
   "metadata": {},
   "outputs": [],
   "source": []
  },
  {
   "cell_type": "code",
   "execution_count": null,
   "id": "4b52912e",
   "metadata": {},
   "outputs": [],
   "source": []
  },
  {
   "cell_type": "code",
   "execution_count": null,
   "id": "5eda2e00",
   "metadata": {},
   "outputs": [],
   "source": []
  }
 ],
 "metadata": {
  "kernelspec": {
   "display_name": "Python 3 (ipykernel)",
   "language": "python",
   "name": "python3"
  },
  "language_info": {
   "codemirror_mode": {
    "name": "ipython",
    "version": 3
   },
   "file_extension": ".py",
   "mimetype": "text/x-python",
   "name": "python",
   "nbconvert_exporter": "python",
   "pygments_lexer": "ipython3",
   "version": "3.7.10"
  }
 },
 "nbformat": 4,
 "nbformat_minor": 5
}
