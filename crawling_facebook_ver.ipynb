{
 "cells": [
  {
   "cell_type": "markdown",
   "id": "301638e5",
   "metadata": {},
   "source": [
    "selenium 동작 확인"
   ]
  },
  {
   "cell_type": "code",
   "execution_count": 3,
   "id": "eaaeec1c",
   "metadata": {},
   "outputs": [],
   "source": [
    "from selenium import webdriver as wd \n",
    "driver = wd.Chrome(executable_path=\"chromedriver.exe\") \n",
    "url = \"https://www.naver.com\" \n",
    "driver.get(url)"
   ]
  },
  {
   "cell_type": "markdown",
   "id": "9b02a877",
   "metadata": {},
   "source": [
    "## import library"
   ]
  },
  {
   "cell_type": "code",
   "execution_count": 27,
   "id": "49a7c530",
   "metadata": {},
   "outputs": [],
   "source": [
    "from selenium import webdriver as wd \n",
    "from selenium.webdriver.common.by import By \n",
    "from selenium.webdriver.support.ui import WebDriverWait \n",
    "from selenium.webdriver.support import expected_conditions as EC \n",
    "import time \n",
    "import re \n",
    "import json \n",
    "import pandas as pd\n",
    "import numpy as np\n",
    "from bs4 import BeautifulSoup"
   ]
  },
  {
   "cell_type": "markdown",
   "id": "f5a3a605",
   "metadata": {},
   "source": [
    "&nbsp;"
   ]
  },
  {
   "cell_type": "markdown",
   "id": "349545f1",
   "metadata": {},
   "source": [
    "### facebook 로그인"
   ]
  },
  {
   "cell_type": "markdown",
   "id": "5102a715",
   "metadata": {},
   "source": [
    "로그인 파라미터"
   ]
  },
  {
   "cell_type": "code",
   "execution_count": 58,
   "id": "9ccc9592",
   "metadata": {},
   "outputs": [],
   "source": [
    "facebook_login_page_css=\".sqdOP.L3NKy.y3zKF \" \n",
    "facebook_login_page_css2=\".sqdOP.yWX7d.y3zKF \"\n",
    "facebook_login_btn_name=\"login\""
   ]
  },
  {
   "cell_type": "markdown",
   "id": "cc5c5b09",
   "metadata": {},
   "source": [
    "url 열기"
   ]
  },
  {
   "cell_type": "code",
   "execution_count": 48,
   "id": "329d8a82",
   "metadata": {},
   "outputs": [],
   "source": [
    "from selenium import webdriver as wd \n",
    "driver = wd.Chrome(executable_path=\"chromedriver.exe\") \n",
    "\n",
    "driver.implicitly_wait(3)\n",
    "\n",
    "driver.get('https://www.facebook.com/')"
   ]
  },
  {
   "cell_type": "markdown",
   "id": "ca32f8c0",
   "metadata": {},
   "source": [
    "로그인"
   ]
  },
  {
   "cell_type": "code",
   "execution_count": 49,
   "id": "685e2663",
   "metadata": {},
   "outputs": [],
   "source": [
    "html = driver.page_source\n",
    "soup = BeautifulSoup(html, 'html.parser')\n",
    "\n",
    "email = driver.find_element_by_xpath(\"//input[@name = 'email']\")\n",
    "password = driver.find_element_by_xpath(\"//input[@name = 'pass']\")\n",
    "facebook_login_btn = driver.find_element_by_name(facebook_login_btn_name)\n",
    "#btn = driver.find_element_by_xpath(\"//input[@value = '로그인']\")\n",
    "\n",
    "email.send_keys(<아이디>)\n",
    "password.send_keys(<비밀번호>)\n",
    "#btn.click()\n",
    "facebook_login_btn.click()"
   ]
  },
  {
   "cell_type": "markdown",
   "id": "7bcd3aab",
   "metadata": {},
   "source": [
    "&nbsp;"
   ]
  },
  {
   "cell_type": "markdown",
   "id": "26ecebaa",
   "metadata": {},
   "source": [
    "### keyword 검색"
   ]
  },
  {
   "cell_type": "code",
   "execution_count": 61,
   "id": "9b1cddc9",
   "metadata": {},
   "outputs": [],
   "source": [
    "search_box_name=\"global_typeahead\"\n",
    "search_box_button =\".tvfksri0.taijpn5t.j83agx80.ll8tlv6m\"\n",
    "\n",
    "searchbox = driver.find_element_by_name(search_box_name)\n",
    "\n",
    "searchbox.send_keys('연남동')\n",
    "searchbox_ok_button = driver.find_element_by_css_selector(search_box_button)\n",
    "searchbox_ok_button.click()\n",
    "\n",
    "time.sleep(3)"
   ]
  }
 ],
 "metadata": {
  "kernelspec": {
   "display_name": "Python 3 (ipykernel)",
   "language": "python",
   "name": "python3"
  },
  "language_info": {
   "codemirror_mode": {
    "name": "ipython",
    "version": 3
   },
   "file_extension": ".py",
   "mimetype": "text/x-python",
   "name": "python",
   "nbconvert_exporter": "python",
   "pygments_lexer": "ipython3",
   "version": "3.7.10"
  }
 },
 "nbformat": 4,
 "nbformat_minor": 5
}
